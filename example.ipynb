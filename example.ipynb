{
 "cells": [
  {
   "cell_type": "code",
   "execution_count": 1,
   "metadata": {
    "collapsed": true
   },
   "outputs": [],
   "source": [
    "import menpo.io as mio\n",
    "import numpy as np\n",
    "import esr\n",
    "%matplotlib inline\n",
    "\n",
    "import menpo.io as mio\n",
    "from menpo.visualize import print_dynamic\n",
    "from menpofit.fittingresult import compute_error\n",
    "import numpy as np\n",
    "from esr import ESRBuilder\n",
    "\n",
    "import cv2\n",
    "import hickle\n"
   ]
  },
  {
   "cell_type": "code",
   "execution_count": 2,
   "metadata": {
    "collapsed": false,
    "scrolled": true
   },
   "outputs": [
    {
     "name": "stdout",
     "output_type": "stream",
     "text": [
      "Generating initial shapes\n",
      "Size of augmented dataset: 420 images.\n",
      "\n",
      "Building fern 499\n",
      "Built outer regressor 0\n",
      "\n",
      "Building fern 499\n",
      "Built outer regressor 1\n",
      "\n",
      "Building fern 499\n",
      "Built outer regressor 2\n",
      "\n",
      "Building fern 499\n",
      "Built outer regressor 3\n",
      "\n",
      "Building fern 499\n",
      "Built outer regressor 4\n",
      "\n",
      "Building fern 499\n",
      "Built outer regressor 5\n",
      "\n",
      "Building fern 499\n",
      "Built outer regressor 6\n",
      "\n",
      "Building fern 499\n",
      "Built outer regressor 7\n",
      "\n",
      "Building fern 499\n",
      "Built outer regressor 8\n",
      "\n",
      "Building fern 499\n",
      "Built outer regressor 9\n",
      "\n"
     ]
    },
    {
     "name": "stderr",
     "output_type": "stream",
     "text": [
      "fern.py:17: RuntimeWarning: invalid value encountered in divide\n",
      "  correlation = (cov_l_p[:, None] - cov_l_p) / np.sqrt(np.std(lengths) * (var_pp_sum - 2 * cov_pp))\n"
     ]
    }
   ],
   "source": [
    "builder = ESRBuilder()\n",
    "\n",
    "trainset = \"/Users/andrejm/Google Drive/Work/BEng project/helen/subset\"\n",
    "testset = \"/Users/andrejm/Google Drive/Work/BEng project/helen/subset\"\n",
    "\n",
    "model = builder.build(trainset)"
   ]
  },
  {
   "cell_type": "code",
   "execution_count": 3,
   "metadata": {
    "collapsed": false
   },
   "outputs": [
    {
     "name": "stdout",
     "output_type": "stream",
     "text": [
      "21/211.32232301207\n",
      "0.011838402671\n"
     ]
    }
   ],
   "source": [
    "lfpw_test_images = []\n",
    "for im in mio.import_images(testset, verbose=True, normalise=False):\n",
    "    im.crop_to_landmarks_proportion_inplace(0.5)\n",
    "    im = im.as_greyscale(mode='average')\n",
    "    lfpw_test_images.append(im)\n",
    "\n",
    "initial_shape = model.mean_shape\n",
    "\n",
    "initial_errors = []\n",
    "final_errors = []\n",
    "final_shapes = []\n",
    "# initial_shapes = extract_shapes(lfpw_test_images)\n",
    "initial_shapes = [ESRBuilder.fit_shape_to_box(img.landmarks['PTS'].lms, esr.get_bounding_box(img, model.face_detector)) for img in lfpw_test_images]\n",
    "for k, im in enumerate(lfpw_test_images):\n",
    "    gt_shape = im.landmarks[None].lms\n",
    "    final_shape = model.fit(im, model.mean_shape)\n",
    "\n",
    "    final_shapes.append(final_shape)\n",
    "    initial_shapes.append(initial_shape)\n",
    "\n",
    "    initial_errors.append(compute_error(initial_shape, gt_shape))\n",
    "    final_errors.append(compute_error(final_shape, gt_shape))\n",
    "\n",
    "    print_dynamic('{}/{}'.format(k + 1, len(lfpw_test_images)))\n",
    "\n",
    "print(np.mean(initial_errors))\n",
    "print(np.mean(final_errors))"
   ]
  },
  {
   "cell_type": "code",
   "execution_count": 10,
   "metadata": {
    "collapsed": false
   },
   "outputs": [],
   "source": [
    "x=np.array([1,2,3])"
   ]
  },
  {
   "cell_type": "code",
   "execution_count": 11,
   "metadata": {
    "collapsed": false
   },
   "outputs": [],
   "source": [
    "y=x"
   ]
  },
  {
   "cell_type": "code",
   "execution_count": 12,
   "metadata": {
    "collapsed": false
   },
   "outputs": [
    {
     "data": {
      "text/plain": [
       "array([3, 2, 3])"
      ]
     },
     "execution_count": 12,
     "metadata": {},
     "output_type": "execute_result"
    }
   ],
   "source": [
    "y[0]=3\n",
    "x\n"
   ]
  },
  {
   "cell_type": "code",
   "execution_count": null,
   "metadata": {
    "collapsed": true
   },
   "outputs": [],
   "source": []
  }
 ],
 "metadata": {
  "kernelspec": {
   "display_name": "Python 2",
   "language": "python",
   "name": "python2"
  },
  "language_info": {
   "codemirror_mode": {
    "name": "ipython",
    "version": 2
   },
   "file_extension": ".py",
   "mimetype": "text/x-python",
   "name": "python",
   "nbconvert_exporter": "python",
   "pygments_lexer": "ipython2",
   "version": "2.7.9"
  }
 },
 "nbformat": 4,
 "nbformat_minor": 0
}
